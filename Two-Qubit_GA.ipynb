{
 "cells": [
  {
   "cell_type": "markdown",
   "metadata": {},
   "source": [
    "# Two-Qubit Geometric Algebra"
   ]
  },
  {
   "cell_type": "markdown",
   "metadata": {},
   "source": [
    "## Preliminaries"
   ]
  },
  {
   "cell_type": "markdown",
   "metadata": {},
   "source": [
    "The first order of business is to import the necessary modules.  The following code requires a local installation of the \"clifford\" python package.  In anaconda, this can be accomplished using the following command.\n",
    "    \n",
    "    conda install -c conda-forge clifford\n",
    "    \n",
    "The presents of module QuantumGA.py in the same directory as this notebook or a directory on the PYTHONPATH is also required."
   ]
  },
  {
   "cell_type": "code",
   "execution_count": 1,
   "metadata": {},
   "outputs": [],
   "source": [
    "from QuantumGA import _e1, _e2, _e3, _e12, _e13, _e23, _e123, _zero, _one \n",
    "from QuantumGA import tract, mvec, dyad, places, linelen, comm, phase2\n",
    "from numpy import sin, cos, sqrt, e, pi, array"
   ]
  },
  {
   "cell_type": "markdown",
   "metadata": {},
   "source": [
    "The next two commands affect the display formatting and can be changed at any time to satisfy the user's requirements."
   ]
  },
  {
   "cell_type": "code",
   "execution_count": 2,
   "metadata": {},
   "outputs": [],
   "source": [
    "places(8)\n",
    "linelen(120)"
   ]
  },
  {
   "cell_type": "markdown",
   "metadata": {},
   "source": [
    "Now define the primitive blades that we will be using."
   ]
  },
  {
   "cell_type": "code",
   "execution_count": 3,
   "metadata": {},
   "outputs": [],
   "source": [
    "e1 = _e1\n",
    "e2 = _e2\n",
    "e3 = _e3\n",
    "\n",
    "e12 = _e12\n",
    "e23 = _e23\n",
    "e13 = _e13\n",
    "\n",
    "e123 = _e123\n",
    "\n",
    "i = e123\n",
    "zero = _zero\n",
    "one = _one"
   ]
  },
  {
   "cell_type": "markdown",
   "metadata": {},
   "source": [
    "## Primitive spin states and the 4x4 specular matrix"
   ]
  },
  {
   "cell_type": "markdown",
   "metadata": {},
   "source": [
    "Define the spin-up, spin-not-up, spin-down and spin-not-down states (in that order).  Note: further information about our naming convections can be found in the document SingleQubitGA.pdf."
   ]
  },
  {
   "cell_type": "code",
   "execution_count": 4,
   "metadata": {},
   "outputs": [],
   "source": [
    "u_ket = (1+e3)/2\n",
    "n_ket = (1-e3)/2\n",
    "d_ket = (e1+e13)/2\n",
    "p_ket = (e1-e13)/2"
   ]
  },
  {
   "cell_type": "markdown",
   "metadata": {},
   "source": [
    "The single-qubit states can be extended to include an additional dimension by using the Kronecker product, $\\otimes$. Programmatically we implement this capability through the definition of a new python class we call a *dyad*.  To create a new dyad one needs to specify both a *left* multivector and a *right* multivector   "
   ]
  },
  {
   "cell_type": "code",
   "execution_count": 5,
   "metadata": {},
   "outputs": [],
   "source": [
    "u_d = dyad(u_ket, d_ket)"
   ]
  },
  {
   "cell_type": "markdown",
   "metadata": {},
   "source": [
    "Displaying the result shows that, in this case, it consists of four individual pieces, each having a blade on either side of a small 'o' symbol.  The little o is a stand-in for the Kronecker product $\\otimes$ which is not an ASCII character. "
   ]
  },
  {
   "cell_type": "code",
   "execution_count": 6,
   "metadata": {},
   "outputs": [
    {
     "data": {
      "text/plain": [
       "[(0.25) o (1.0*e1)] +\n",
       "[(0.25*e3) o (1.0*e1)] +\n",
       "[(0.25) o (1.0*e13)] +\n",
       "[(0.25*e3) o (1.0*e13)]"
      ]
     },
     "execution_count": 6,
     "metadata": {},
     "output_type": "execute_result"
    }
   ],
   "source": [
    "u_d"
   ]
  },
  {
   "cell_type": "markdown",
   "metadata": {},
   "source": [
    "Displaying a dyad in the above format is informative, but it can become both combersome and confusing.  To help organize the individual *dyadic blades* into more complex *dyadic multivectors* we introduce the *dense* method.  This function \"condenses\" the output as much as possible before formatting it as a string. "
   ]
  },
  {
   "cell_type": "code",
   "execution_count": 7,
   "metadata": {},
   "outputs": [
    {
     "data": {
      "text/plain": [
       "[(0.5 + 0.5*e3) o (0.5*e1 + 0.5*e13)]"
      ]
     },
     "execution_count": 7,
     "metadata": {},
     "output_type": "execute_result"
    }
   ],
   "source": [
    "u_d.dense(2)"
   ]
  },
  {
   "cell_type": "markdown",
   "metadata": {},
   "source": [
    "The parameter $\\color{green}{(2)}$ is a scaling factor that is applied as multiplier on the left and divisor on the right.  The output should be readable now as u_ket on the left and d_ket on the right."
   ]
  },
  {
   "cell_type": "markdown",
   "metadata": {},
   "source": [
    "We calculate with dyads in the same manner as we do with single-qubit states.  Addition and multiplication are done using the standard operators (+ and *).  Hermittian conjugation is accomplished using the unary operator, tilde (~).  For example, the Dirac inner product of the up-down state $\\langle u\\otimes d\\ |\\ u\\otimes d\\rangle$ is easily found."
   ]
  },
  {
   "cell_type": "code",
   "execution_count": 8,
   "metadata": {
    "scrolled": true
   },
   "outputs": [
    {
     "data": {
      "text/plain": [
       "[(0.5 + 0.5*e3) o (0.5 + 0.5*e3)]"
      ]
     },
     "execution_count": 8,
     "metadata": {},
     "output_type": "execute_result"
    }
   ],
   "source": [
    "(~u_d*u_d).dense(2)"
   ]
  },
  {
   "cell_type": "markdown",
   "metadata": {},
   "source": [
    "This result might already be recognizable as the $|u\\rangle \\otimes |u\\rangle$ state."
   ]
  },
  {
   "cell_type": "markdown",
   "metadata": {},
   "source": [
    "Starting with the four single-qubit states we combine them two at a time to create the sixteen dyadic specular states."
   ]
  },
  {
   "cell_type": "code",
   "execution_count": 9,
   "metadata": {},
   "outputs": [],
   "source": [
    "u_u = dyad(u_ket,u_ket)\n",
    "u_d = dyad(u_ket,d_ket)\n",
    "d_u = dyad(d_ket,u_ket)\n",
    "d_d = dyad(d_ket,d_ket)\n",
    "\n",
    "u_p = dyad(u_ket,p_ket)\n",
    "u_n = dyad(u_ket,n_ket)\n",
    "d_p = dyad(d_ket,p_ket)\n",
    "d_n = dyad(d_ket,n_ket)\n",
    "\n",
    "p_u = dyad(p_ket,u_ket)\n",
    "p_d = dyad(p_ket,d_ket)\n",
    "n_u = dyad(n_ket,u_ket)\n",
    "n_d = dyad(n_ket,d_ket)\n",
    "\n",
    "p_p = dyad(p_ket,p_ket)\n",
    "p_n = dyad(p_ket,n_ket)\n",
    "n_p = dyad(n_ket,p_ket)\n",
    "n_n = dyad(n_ket,n_ket)"
   ]
  },
  {
   "cell_type": "markdown",
   "metadata": {},
   "source": [
    "Taken together the sixteen dyadic specular states are used to generate the 4x4 specular matrix."
   ]
  },
  {
   "cell_type": "code",
   "execution_count": 10,
   "metadata": {},
   "outputs": [],
   "source": [
    "S4 = array([[u_u, u_p, p_u, p_p],\n",
    "            [u_d, u_n, p_d, p_n],\n",
    "            [d_u, d_p, n_u, n_p],\n",
    "            [d_d, d_n, n_d, n_n]])"
   ]
  },
  {
   "cell_type": "markdown",
   "metadata": {},
   "source": [
    "The resulting object is a 4x4 numpy array with dyadic elements. In the following sections we will be using this array along with the *tract* method to create a series of dyadic multivector objects. "
   ]
  },
  {
   "cell_type": "markdown",
   "metadata": {},
   "source": [
    "Notice that the four states that make up the leftmost column of this specular matrix define the basis states of a Dirac spinor.  In quantum geometric algebra we prefer to combine all four states into a single dyad and work with it like any other multivector. "
   ]
  },
  {
   "cell_type": "markdown",
   "metadata": {},
   "source": [
    "## Making dyadic multivectors from matrices"
   ]
  },
  {
   "cell_type": "markdown",
   "metadata": {},
   "source": [
    "To translate a typical 4x4 matrix into its multivector equivalent form, we start with a numpy array.  For example the matrix form of a quantum CNOT1 gate. \n"
   ]
  },
  {
   "cell_type": "code",
   "execution_count": 11,
   "metadata": {},
   "outputs": [],
   "source": [
    "cnot1 = array([[1, 0, 0, 0],\n",
    "               [0, 1, 0, 0],\n",
    "               [0, 0, 0, 1],\n",
    "               [0, 0, 1, 0]])\n"
   ]
  },
  {
   "cell_type": "markdown",
   "metadata": {},
   "source": [
    "The multivector equivalent of this array is generated by contracting it with the 4x4 specular matrix. "
   ]
  },
  {
   "cell_type": "code",
   "execution_count": 12,
   "metadata": {},
   "outputs": [
    {
     "data": {
      "text/plain": [
       "[(0.5 + 0.5*e3) o (1.0)] +\n",
       "[(0.5 - 0.5*e3) o (1.0*e1)]"
      ]
     },
     "execution_count": 12,
     "metadata": {},
     "output_type": "execute_result"
    }
   ],
   "source": [
    "CNOT1 = tract(cnot1, S4)\n",
    "CNOT1.dense()"
   ]
  },
  {
   "cell_type": "markdown",
   "metadata": {},
   "source": [
    "In multivector form we find that the CNOT1 gate is composed of two simple dyads, $|u\\rangle \\otimes \\mathbb{1}\\ $ and $\\ |n\\rangle \\otimes \\mathbf{e}1$.  The known left-action of a CNOT1 gate on the $|d\\rangle \\otimes |u\\rangle$  state is to produce the $|d\\rangle \\otimes |d\\rangle$ state.  "
   ]
  },
  {
   "cell_type": "code",
   "execution_count": 13,
   "metadata": {},
   "outputs": [
    {
     "data": {
      "text/plain": [
       "[(0.5*e1 + 0.5*e13) o (0.5*e1 + 0.5*e13)]"
      ]
     },
     "execution_count": 13,
     "metadata": {},
     "output_type": "execute_result"
    }
   ],
   "source": [
    "(CNOT1*d_u).dense(2)"
   ]
  },
  {
   "cell_type": "markdown",
   "metadata": {},
   "source": [
    "The effect of a CNOT1 gate on the other dyads in the Dirac basis can be evaluated by just overtyping the d_u state the previous cell and running it again."
   ]
  },
  {
   "cell_type": "markdown",
   "metadata": {},
   "source": [
    "Another important quantum gate is the Hadamard gate.  We can create a 4x4 array that defines a 2x2 Hadamard gate acting on the first qubit only, $H \\otimes \\mathbb{1}$.      "
   ]
  },
  {
   "cell_type": "code",
   "execution_count": 14,
   "metadata": {},
   "outputs": [],
   "source": [
    "hadamard1  = array([[1, 0, 1, 0],\n",
    "                    [0, 1, 0, 1],\n",
    "                    [1, 0,-1, 0],\n",
    "                    [0, 1, 0,-1]])/sqrt(2)"
   ]
  },
  {
   "cell_type": "markdown",
   "metadata": {},
   "source": [
    "Contracting this matrix with the 4x4 specular matrix generates its dyadic multivector equivalent."
   ]
  },
  {
   "cell_type": "code",
   "execution_count": 15,
   "metadata": {},
   "outputs": [
    {
     "data": {
      "text/plain": [
       "[(0.70710678*e1 + 0.70710678*e3) o (1.0)]"
      ]
     },
     "execution_count": 15,
     "metadata": {},
     "output_type": "execute_result"
    }
   ],
   "source": [
    "H1 = tract(hadamard1, S4)\n",
    "H1.dense()"
   ]
  },
  {
   "cell_type": "markdown",
   "metadata": {},
   "source": [
    "In multivector form this gate is just a unit vector on the left side and the identity on the right side.  The gate's effect on the $|u\\rangle \\otimes |u\\rangle$ state is to create a $|r\\rangle \\otimes |u\\rangle$ state, where $|r\\rangle$ is the spin-right state, $(|u\\rangle+|d\\rangle)\\ /\\sqrt{2}$."
   ]
  },
  {
   "cell_type": "code",
   "execution_count": 16,
   "metadata": {},
   "outputs": [
    {
     "data": {
      "text/plain": [
       "[(0.35355339 + 0.35355339*e1 + 0.35355339*e3 + 0.35355339*e13) o (0.5 + 0.5*e3)]"
      ]
     },
     "execution_count": 16,
     "metadata": {},
     "output_type": "execute_result"
    }
   ],
   "source": [
    "(H1*u_u).dense(2)"
   ]
  },
  {
   "cell_type": "markdown",
   "metadata": {},
   "source": [
    "## Entangled states"
   ]
  },
  {
   "cell_type": "markdown",
   "metadata": {},
   "source": [
    "Possibly the most mysterious feature of Quantum Mechanics is that of entanglement.  Now that we have the ability to define two-qubit states it is possible to look into entanglement from the quantum geometric algebra perspective.  We start by defining the four dyadic Bell states."
   ]
  },
  {
   "cell_type": "code",
   "execution_count": 17,
   "metadata": {},
   "outputs": [],
   "source": [
    "phi_p = (u_u+d_d)/sqrt(2)\n",
    "phi_m = (u_u-d_d)/sqrt(2)\n",
    "psi_p = (u_d+d_u)/sqrt(2)\n",
    "psi_m = (u_d-d_u)/sqrt(2)"
   ]
  },
  {
   "cell_type": "markdown",
   "metadata": {},
   "source": [
    "Each of the Bell states can be generated from the underlying Dirac states through the use of a well-known quantum circuit which applies a Hadamard gate to the first qubit followed by a CNOT gate.  This circuit can, for example, convert the $|u\\rangle \\otimes |u\\rangle$ state into the $\\phi^{+}$ entangled state."
   ]
  },
  {
   "attachments": {
    "small_Hadamard-CNOT.png": {
     "image/png": "[encoded data removed]"
    }
   },
   "cell_type": "markdown",
   "metadata": {},
   "source": [
    "![small_Hadamard-CNOT.png](attachment:small_Hadamard-CNOT.png)"
   ]
  },
  {
   "cell_type": "code",
   "execution_count": 18,
   "metadata": {},
   "outputs": [
    {
     "data": {
      "text/plain": [
       "[(0.35355339 + 0.35355339*e3) o (0.5 + 0.5*e3)] +\n",
       "[(0.35355339*e1 + 0.35355339*e13) o (0.5*e1 + 0.5*e13)]"
      ]
     },
     "execution_count": 18,
     "metadata": {},
     "output_type": "execute_result"
    }
   ],
   "source": [
    "(CNOT1*H1*u_u).dense(2)"
   ]
  },
  {
   "cell_type": "markdown",
   "metadata": {},
   "source": [
    "As can be inferred from this example, processing proceeds from right-to-left in a quantum geometric algebra calculation as it does in matrix algebra.  We can display the multivector form of a $\\phi^{+}$ state for comparison with the previous result."
   ]
  },
  {
   "cell_type": "code",
   "execution_count": 19,
   "metadata": {
    "scrolled": true
   },
   "outputs": [
    {
     "data": {
      "text/plain": [
       "[(0.35355339 + 0.35355339*e3) o (0.5 + 0.5*e3)] +\n",
       "[(0.35355339*e1 + 0.35355339*e13) o (0.5*e1 + 0.5*e13)]"
      ]
     },
     "execution_count": 19,
     "metadata": {},
     "output_type": "execute_result"
    }
   ],
   "source": [
    "phi_p.dense(2)"
   ]
  },
  {
   "cell_type": "markdown",
   "metadata": {},
   "source": [
    "We can also calculate the density matrix for one of our Bell states for example the $\\psi^{-}$ (singleton) state, $|\\psi^{-}\\rangle\\langle\\psi^{-}|$."
   ]
  },
  {
   "cell_type": "code",
   "execution_count": 20,
   "metadata": {},
   "outputs": [
    {
     "data": {
      "text/plain": [
       "[(0.25) o (1.0)] +\n",
       "[(-0.25*e1) o (1.0*e1)] +\n",
       "[(-0.25*e3) o (1.0*e3)] +\n",
       "[(0.25*e13) o (1.0*e13)]"
      ]
     },
     "execution_count": 20,
     "metadata": {},
     "output_type": "execute_result"
    }
   ],
   "source": [
    "(psi_m*~psi_m).dense()"
   ]
  },
  {
   "cell_type": "markdown",
   "metadata": {},
   "source": [
    "Because the imaginary unit *i* commutes across a Kronecker product, we can multiply a dyad by *+i* on one side and by *-i* on the other side without changing the characteristics of the product.  The QuantumGA.py module includes a function *ii* that exploits this equivalence and will convert bivector-bivector dyads to vector-vector dyads using the pseudoscalar $\\mathbf{e}123$.  We can utilize the ii function to clean-up the previous output a little bit.  "
   ]
  },
  {
   "cell_type": "code",
   "execution_count": 21,
   "metadata": {},
   "outputs": [
    {
     "data": {
      "text/plain": [
       "[(0.25) o (1.0)] +\n",
       "[(-0.25*e1) o (1.0*e1)] +\n",
       "[(-0.25*e2) o (1.0*e2)] +\n",
       "[(-0.25*e3) o (1.0*e3)]"
      ]
     },
     "execution_count": 21,
     "metadata": {},
     "output_type": "execute_result"
    }
   ],
   "source": [
    "(psi_m*~psi_m).ii().dense()"
   ]
  },
  {
   "cell_type": "markdown",
   "metadata": {},
   "source": [
    "This result may be more recognizable as the Bloch decomposition of the $\\Psi^{-}$ density matrix $(\\mathbb{1}\\otimes\\mathbb{1}-\\sigma_{1}\\otimes\\sigma_{1}-\\sigma_{2}\\otimes\\sigma_{2}-\\sigma_{3}\\otimes\\sigma_{3})\\ /\\ 4$."
   ]
  },
  {
   "cell_type": "markdown",
   "metadata": {},
   "source": [
    "We might like to calculate the expectation value or probability for an EPR-type experiment using this maximally entangled state.  To accomplish this we first need to create a dyad which represents the measurement states at Alice's (left) and Bob's (right) analyzer $|AB\\ \\rangle$."
   ]
  },
  {
   "cell_type": "markdown",
   "metadata": {},
   "source": [
    "To produce a dyad in both Alice's and Bob's state we start with a dyad in the up-up state and rotate each side by a separate angle.  To perform this rotation we need to create a *dyadic-rotor* which is easy to do using the built-in *phase2* method.  The phase2 function creates a phase gate which can perform a simple rotation in the $\\mathbf{e}13$ plane.  We create a dyadic rotor that specifies two separate rotations."
   ]
  },
  {
   "cell_type": "code",
   "execution_count": 22,
   "metadata": {},
   "outputs": [],
   "source": [
    "alice = pi*1/12\n",
    "bob = pi*5/12\n",
    "RR = dyad(phase2(alice, -alice),phase2(bob, -bob))"
   ]
  },
  {
   "cell_type": "markdown",
   "metadata": {},
   "source": [
    "To understand the effect this dyadic rotor has on the up-up spin state we apply it using the sandwich product and display the result.  Notice that each side of this dyad has a different vector component.  "
   ]
  },
  {
   "cell_type": "code",
   "execution_count": 23,
   "metadata": {
    "scrolled": true
   },
   "outputs": [
    {
     "data": {
      "text/plain": [
       "[(0.5 - 0.25*e1 + 0.4330127*e3) o (0.5 - 0.25*e1 - 0.4330127*e3)]"
      ]
     },
     "execution_count": 23,
     "metadata": {},
     "output_type": "execute_result"
    }
   ],
   "source": [
    "(RR*u_u*~RR).dense(2)"
   ]
  },
  {
   "cell_type": "markdown",
   "metadata": {},
   "source": [
    "To calculate the probability of obtaining an up-up result (++) given the above combination of Alice's and Bob's states we use the following formula."
   ]
  },
  {
   "cell_type": "markdown",
   "metadata": {},
   "source": [
    "<center>$P(AB)\\ =\\ \\langle\\psi^{-}|AB\\ \\rangle\\langle AB\\ |\\ \\psi^{-}\\rangle$<center>"
   ]
  },
  {
   "cell_type": "markdown",
   "metadata": {},
   "source": [
    "Some extra typing can be avoided if we notice that the right side of the above equation is just the Dirac outer product of the inner product, $\\langle\\psi^{-}|AB\\ \\rangle$. The built-in method *oprod* can be used to calculate the Dirac outer product of this dyadic state with itself."
   ]
  },
  {
   "cell_type": "code",
   "execution_count": 24,
   "metadata": {},
   "outputs": [
    {
     "data": {
      "text/plain": [
       "[(0.1875 + 0.1875*e3) o (0.5 + 0.5*e3)]"
      ]
     },
     "execution_count": 24,
     "metadata": {},
     "output_type": "execute_result"
    }
   ],
   "source": [
    "(~psi_m*RR*u_u).oprod().dense(2)"
   ]
  },
  {
   "cell_type": "markdown",
   "metadata": {},
   "source": [
    "This result is equal to $\\frac{1}{2}\\sin{(bob-alice)}^2$ times the basis state, $|u\\rangle\\otimes|u\\rangle$.  To factor out the basis state from the above product we employ the *uufact* method."
   ]
  },
  {
   "cell_type": "code",
   "execution_count": 25,
   "metadata": {},
   "outputs": [
    {
     "data": {
      "text/plain": [
       "[(0.375) o (1.0)]"
      ]
     },
     "execution_count": 25,
     "metadata": {},
     "output_type": "execute_result"
    }
   ],
   "source": [
    "(~psi_m*RR*u_u).oprod().uufact()"
   ]
  },
  {
   "cell_type": "markdown",
   "metadata": {},
   "source": [
    "Readers can easily calculate the probability for obtaining one of the other possible outcomes (+-, -+ or --) by substituting (u_d, d_u or d_d) for u_u in the previous cell."
   ]
  },
  {
   "cell_type": "markdown",
   "metadata": {},
   "source": [
    "## Gamma matrices"
   ]
  },
  {
   "cell_type": "markdown",
   "metadata": {},
   "source": [
    "No discussion of 4x4 arrays can be complete without talking about the Dirac gamma matrices.  We can find the dyadic multivector equivalents for these matrices in the usual way.  First we define a numpy array for, say example, the $\\gamma_{1}$ matrix. "
   ]
  },
  {
   "cell_type": "code",
   "execution_count": 26,
   "metadata": {},
   "outputs": [],
   "source": [
    "g1 = array([[ 0, 0, 0, 1],\n",
    "            [ 0, 0, 1, 0],\n",
    "            [ 0,-1, 0, 0],\n",
    "            [-1, 0, 0, 0]])"
   ]
  },
  {
   "cell_type": "markdown",
   "metadata": {},
   "source": [
    "Next we contract this array with the 4x4 specular matrix."
   ]
  },
  {
   "cell_type": "code",
   "execution_count": 27,
   "metadata": {},
   "outputs": [
    {
     "data": {
      "text/plain": [
       "[(-1.0*e13) o (1.0*e1)]"
      ]
     },
     "execution_count": 27,
     "metadata": {},
     "output_type": "execute_result"
    }
   ],
   "source": [
    "G1 = tract(g1, S4)\n",
    "G1"
   ]
  },
  {
   "cell_type": "markdown",
   "metadata": {},
   "source": [
    "The result in this case is a simple dyadic blade with a unit bivector on the left side and a unit vector on the right.  An important characteristic of this dyad is that it squares to negative one (times the dyadic identity element, $\\mathbb{1}\\otimes\\mathbb{1}$)."
   ]
  },
  {
   "cell_type": "code",
   "execution_count": 28,
   "metadata": {},
   "outputs": [
    {
     "data": {
      "text/plain": [
       "[(-1.0) o (1.0)]"
      ]
     },
     "execution_count": 28,
     "metadata": {},
     "output_type": "execute_result"
    }
   ],
   "source": [
    "G1**2"
   ]
  },
  {
   "cell_type": "markdown",
   "metadata": {},
   "source": [
    "It is a simple matter to translate the other gamma matrices into dyadic multivectors using the 4x4 specular matrix.  However for the sake of brevity we will use the direct way, since we already know what their dyadic forms should be.   "
   ]
  },
  {
   "cell_type": "code",
   "execution_count": 29,
   "metadata": {},
   "outputs": [],
   "source": [
    "G2 = dyad(-e13, e2)\n",
    "G3 = dyad(-e13, e3)\n",
    "G0 = dyad(e3, one)"
   ]
  },
  {
   "cell_type": "markdown",
   "metadata": {},
   "source": [
    "Notice that the $\\gamma_{0}$ matrix squares to positive one (times the identity dyad)."
   ]
  },
  {
   "cell_type": "code",
   "execution_count": 30,
   "metadata": {},
   "outputs": [
    {
     "data": {
      "text/plain": [
       "[(1.0) o (1.0)]"
      ]
     },
     "execution_count": 30,
     "metadata": {},
     "output_type": "execute_result"
    }
   ],
   "source": [
    "G0**2"
   ]
  },
  {
   "cell_type": "markdown",
   "metadata": {},
   "source": [
    "Together these *gamma dyads* form a 4-dimensional basis set with the signature of Minkowski space, thus the set of gamma dyads gives us the ability to create and manipulate dyadic 4-vectors."
   ]
  },
  {
   "cell_type": "markdown",
   "metadata": {},
   "source": [
    "## Exponentiation "
   ]
  },
  {
   "cell_type": "markdown",
   "metadata": {},
   "source": [
    "Because many equations in quantum physics involve the exponentials of square matrices, it is important to provide this capability for dyadic multivectors as well.  The QuantumGA.py module implements exponentiation by calculating the dyad's power series up to it's 25th iteration."
   ]
  },
  {
   "cell_type": "code",
   "execution_count": 31,
   "metadata": {
    "scrolled": true
   },
   "outputs": [
    {
     "data": {
      "text/plain": [
       "[(0.5) o (1.0)] +\n",
       "[(-0.8660254*e13) o (1.0*e1)]"
      ]
     },
     "execution_count": 31,
     "metadata": {},
     "output_type": "execute_result"
    }
   ],
   "source": [
    "e**(G1*pi/3)"
   ]
  },
  {
   "cell_type": "markdown",
   "metadata": {},
   "source": [
    "We see that the rotor $e^{-e13\\otimes e1*\\pi/3}$, by extension of Euler's formula, is equivalent to $(\\mathbb{1}\\otimes \\mathbb{1})\\cos{\\pi/3}-(\\mathbf{e}13\\otimes \\mathbf{e}1)\\sin{\\pi/3}$."
   ]
  },
  {
   "cell_type": "markdown",
   "metadata": {},
   "source": [
    "The gamma matrices can also be understood as a set of boost generators in the Lorentz group.  To generate a boost using the matrix algebra one employs the exponential map which uses the complex identity *i*.  The dyadic equivalent of the complex unit is a combination of the pseudoscalar on one side  of the Kronecker product and the multiplicative identity on the other.  Since *i* commutes with all other elements of our algebra it really doesn't matter which side the pseudoscalar appears on, here we choose the left.      "
   ]
  },
  {
   "cell_type": "code",
   "execution_count": 32,
   "metadata": {},
   "outputs": [],
   "source": [
    "io = dyad(i, one)"
   ]
  },
  {
   "cell_type": "markdown",
   "metadata": {},
   "source": [
    "Using this complex unit, the following exponential generates a boost of rapidity 1/2 in the $\\mathbf{e}1$ direction.  "
   ]
  },
  {
   "cell_type": "code",
   "execution_count": 33,
   "metadata": {},
   "outputs": [
    {
     "data": {
      "text/plain": [
       "[(1.12762597) o (1.0)] +\n",
       "[(-0.52109531*e2) o (1.0*e1)]"
      ]
     },
     "execution_count": 33,
     "metadata": {},
     "output_type": "execute_result"
    }
   ],
   "source": [
    "e**(io*G1*0.5)"
   ]
  },
  {
   "cell_type": "markdown",
   "metadata": {},
   "source": [
    "This dyad is hyperbolic and can be read as $(\\mathbb{1}\\otimes \\mathbb{1})\\cosh(\\frac{1}{2})-(\\mathbf{e}2\\otimes \\mathbf{e}1)\\sinh(\\frac{1}{2})$."
   ]
  },
  {
   "cell_type": "markdown",
   "metadata": {},
   "source": [
    "Having the ability to perform rotations and boosts on dyadic states gives us a powerful tool for studying quantum physics.  Because our dyadic operators are derived directly from the gamma matrices themselves the connection to the standard approach is direct.  Taken together our quantum geometric algebra offers an alternative to the space time algebra (STA) as a way of applying geometric algebra to the theories of SR and QED."
   ]
  },
  {
   "cell_type": "markdown",
   "metadata": {},
   "source": [
    "## Sandbox"
   ]
  },
  {
   "cell_type": "markdown",
   "metadata": {},
   "source": [
    "Readers are encouraged at this point to play around with the various operators and states that we have defined so far.  Verify for yourself that these dyadic multivectors behave in the same manner as the operators and states of the standard approach.  Python programmers can load QuantumGA.py and Definitions.py into any Python 3 environment and explore even more.     "
   ]
  },
  {
   "cell_type": "code",
   "execution_count": null,
   "metadata": {},
   "outputs": [],
   "source": []
  }
 ],
 "metadata": {
  "kernelspec": {
   "display_name": "Python 3 (ipykernel)",
   "language": "python",
   "name": "python3"
  },
  "language_info": {
   "codemirror_mode": {
    "name": "ipython",
    "version": 3
   },
   "file_extension": ".py",
   "mimetype": "text/x-python",
   "name": "python",
   "nbconvert_exporter": "python",
   "pygments_lexer": "ipython3",
   "version": "3.9.13"
  }
 },
 "nbformat": 4,
 "nbformat_minor": 2
}
