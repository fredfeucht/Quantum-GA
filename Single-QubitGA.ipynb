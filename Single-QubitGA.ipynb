{
 "cells": [
  {
   "cell_type": "markdown",
   "metadata": {},
   "source": [
    "# Single-Qubit Geometric Algebra"
   ]
  },
  {
   "cell_type": "markdown",
   "metadata": {},
   "source": [
    "## Preliminaries"
   ]
  },
  {
   "cell_type": "markdown",
   "metadata": {},
   "source": [
    "The first order of business is to import the necessary modules.  The following code requires a local installation of the \"clifford\" python package.  In anaconda, this can be accomplished using the following command.\n",
    "    \n",
    "    conda install -c conda-forge clifford\n",
    "    \n",
    "The presents of module QuantumGA.py in the same directory as this notebook or a directory on the PYTHONPATH is also required."
   ]
  },
  {
   "cell_type": "code",
   "execution_count": 38,
   "metadata": {},
   "outputs": [],
   "source": [
    "from clifford import MVArray\n",
    "from QuantumGA import _e1, _e2, _e3, _e12, _e13, _e23, _e123, _zero, _one \n",
    "from QuantumGA import tract, mvec, places, linelen, comm\n",
    "from numpy import sqrt, e, pi, array"
   ]
  },
  {
   "cell_type": "markdown",
   "metadata": {},
   "source": [
    "The next two commands affect the display formatting and can be changed at any time to suit the user's preferences."
   ]
  },
  {
   "cell_type": "code",
   "execution_count": 39,
   "metadata": {},
   "outputs": [],
   "source": [
    "places(8)\n",
    "linelen(120)"
   ]
  },
  {
   "cell_type": "markdown",
   "metadata": {},
   "source": [
    "Now define the primitive blades that we will be using."
   ]
  },
  {
   "cell_type": "code",
   "execution_count": 40,
   "metadata": {},
   "outputs": [],
   "source": [
    "e1 = _e1\n",
    "e2 = _e2\n",
    "e3 = _e3\n",
    "\n",
    "e12 = _e12\n",
    "e23 = _e23\n",
    "e13 = _e13\n",
    "\n",
    "e123 = _e123\n",
    "\n",
    "i = e123\n",
    "zero = _zero\n",
    "one = _one"
   ]
  },
  {
   "cell_type": "markdown",
   "metadata": {},
   "source": [
    "## Primitive spin states and the specular matrix"
   ]
  },
  {
   "cell_type": "markdown",
   "metadata": {},
   "source": [
    "Define the spin-up, spin-not-up, spin-down and spin-not-down states (in that order).  Note: further information about our naming convections can be found in the document SingleQubitGA.pdf."
   ]
  },
  {
   "cell_type": "code",
   "execution_count": 41,
   "metadata": {},
   "outputs": [],
   "source": [
    "u_ket = (1+e3)/2\n",
    "n_ket = (1-e3)/2\n",
    "d_ket = (e1+e13)/2\n",
    "p_ket = (e1-e13)/2"
   ]
  },
  {
   "cell_type": "markdown",
   "metadata": {},
   "source": [
    "In the Pauli and Dirac algebras hermitian conjugation is used to transform a column-vector state (ket) into a row-vector state (bra).  In quantum geometric algebra the equivalent operation is *reversion* which is implemented in the \"clifford\" library with the unary operator tilda. "
   ]
  },
  {
   "cell_type": "code",
   "execution_count": 42,
   "metadata": {},
   "outputs": [
    {
     "data": {
      "text/plain": [
       "0.5^e1 - 0.5^e13"
      ]
     },
     "execution_count": 42,
     "metadata": {},
     "output_type": "execute_result"
    }
   ],
   "source": [
    "~d_ket"
   ]
  },
  {
   "cell_type": "markdown",
   "metadata": {},
   "source": [
    "Dirac inner and outer products, quantum expectation values and probabilities can all be calculated in the bra-ket formalism using just multivectors and the reversion operator.  For example, the Dirac inner product of the spin-down state ,$\\langle d| d\\rangle$, can be easily calculated."
   ]
  },
  {
   "cell_type": "code",
   "execution_count": 43,
   "metadata": {},
   "outputs": [
    {
     "data": {
      "text/plain": [
       "0.5 + 0.5^e3"
      ]
     },
     "execution_count": 43,
     "metadata": {},
     "output_type": "execute_result"
    }
   ],
   "source": [
    "~d_ket*d_ket"
   ]
  },
  {
   "cell_type": "markdown",
   "metadata": {},
   "source": [
    "The Dirac inner product is usually considered a complex function.  However, in quantum geometric algebra the result is a complex number times the base state, in this case *u_ket*.  To isolate just the complex factor from the base state we use the built-in *ufact* method.  This function finds a multivector that can be right multiplied by the spin-up state ,$|u\\rangle$, to obtain the same result."
   ]
  },
  {
   "cell_type": "code",
   "execution_count": 44,
   "metadata": {},
   "outputs": [
    {
     "data": {
      "text/plain": [
       "1.0"
      ]
     },
     "execution_count": 44,
     "metadata": {},
     "output_type": "execute_result"
    }
   ],
   "source": [
    "(~d_ket*d_ket).ufact()"
   ]
  },
  {
   "cell_type": "markdown",
   "metadata": {},
   "source": [
    "We are now ready to define the 2x2 specular matrix.  The syntax here is unfortunately complicated by a need to use the MVArray method provided by the clifford package."
   ]
  },
  {
   "cell_type": "code",
   "execution_count": 45,
   "metadata": {},
   "outputs": [],
   "source": [
    "S2 = array(MVArray([u_ket, p_ket, d_ket, n_ket]).reshape(2,2))"
   ]
  },
  {
   "cell_type": "markdown",
   "metadata": {},
   "source": [
    "The resulting object is a 2x2 numpy array with multivector elements. In the following sections we will be using this array along with the *tract* method to create a series of multivector objects. "
   ]
  },
  {
   "cell_type": "code",
   "execution_count": 46,
   "metadata": {
    "scrolled": false
   },
   "outputs": [
    {
     "data": {
      "text/plain": [
       "array([[0.5 + 0.5^e3, 0.5^e1 - 0.5^e13],\n",
       "       [0.5^e1 + 0.5^e13, 0.5 - 0.5^e3]], dtype=object)"
      ]
     },
     "execution_count": 46,
     "metadata": {},
     "output_type": "execute_result"
    }
   ],
   "source": [
    "S2"
   ]
  },
  {
   "cell_type": "markdown",
   "metadata": {},
   "source": [
    "Notice that the two states that make up the left column of the 2x2 spectral matrix, *u_ket* and *d_ket*, define the basis vectors of the Pauli spin algebra, $|u\\rangle$ and $|d\\rangle$ (sometimes written $|0\\rangle$ and $|1\\rangle$).  These two states are often depicted as a column vector and referred to as a Pauli spinor."
   ]
  },
  {
   "cell_type": "markdown",
   "metadata": {},
   "source": [
    "In quantum geometric algebra these two states can be treated as two pieces of a single multivector located in a particular two-dimensional subspace of $\\mathbb{G}_{3}$, *span*{$1, \\mathbf{e}1, \\mathbf{e}3, \\mathbf{e}13$}. "
   ]
  },
  {
   "cell_type": "markdown",
   "metadata": {},
   "source": [
    "## Making multivectors from matrices"
   ]
  },
  {
   "cell_type": "markdown",
   "metadata": {},
   "source": [
    "To translate a typical 2x2 matrix into its multivector equivalent form we start with a, possibly complex, 2x2 numpy array.  For example the Pauli $\\sigma_{1}$ matrix. \n"
   ]
  },
  {
   "cell_type": "code",
   "execution_count": 47,
   "metadata": {},
   "outputs": [
    {
     "data": {
      "text/plain": [
       "array([[0, 1],\n",
       "       [1, 0]])"
      ]
     },
     "execution_count": 47,
     "metadata": {},
     "output_type": "execute_result"
    }
   ],
   "source": [
    "pauli_x = array([[0,1], [1,0]])\n",
    "pauli_x"
   ]
  },
  {
   "cell_type": "markdown",
   "metadata": {},
   "source": [
    "Contracting this matrix with the 2x2 spectral matrix we can generate a mulivector which contains the same mathematical properties as the matrix form."
   ]
  },
  {
   "cell_type": "code",
   "execution_count": 48,
   "metadata": {},
   "outputs": [
    {
     "data": {
      "text/plain": [
       "1.0^e1"
      ]
     },
     "execution_count": 48,
     "metadata": {},
     "output_type": "execute_result"
    }
   ],
   "source": [
    "X = tract(pauli_x, S2)\n",
    "X"
   ]
  },
  {
   "cell_type": "markdown",
   "metadata": {},
   "source": [
    "We can do the same for the other two Pauli matrices.  Note the use of complex elements in the case of the $\\sigma_{2}$ (pauli_y) matrix."
   ]
  },
  {
   "cell_type": "code",
   "execution_count": 49,
   "metadata": {},
   "outputs": [],
   "source": [
    "pauli_y = array([[0, -1j], [1j, 0]])\n",
    "pauli_z = array([[1,0], [0,-1]])"
   ]
  },
  {
   "cell_type": "code",
   "execution_count": 50,
   "metadata": {},
   "outputs": [
    {
     "data": {
      "text/plain": [
       "1.0^e2"
      ]
     },
     "execution_count": 50,
     "metadata": {},
     "output_type": "execute_result"
    }
   ],
   "source": [
    "Y = tract(pauli_y, S2)\n",
    "Y"
   ]
  },
  {
   "cell_type": "code",
   "execution_count": 51,
   "metadata": {},
   "outputs": [
    {
     "data": {
      "text/plain": [
       "1.0^e3"
      ]
     },
     "execution_count": 51,
     "metadata": {},
     "output_type": "execute_result"
    }
   ],
   "source": [
    "Z = tract(pauli_z, S2)\n",
    "Z"
   ]
  },
  {
   "cell_type": "markdown",
   "metadata": {},
   "source": [
    "These simple calculations demonstrate that, within this context, the Pauli matrices and the basis vectors of $\\mathbb{G}_{3}$ are one and the same."
   ]
  },
  {
   "cell_type": "markdown",
   "metadata": {},
   "source": [
    "To help convince readers that this is the case, we can examine the commutation relations between our multivectors vs. those of  the Pauli matrices $[\\sigma_{a},\\sigma_{b}]=2i\\epsilon_{abc}\\sigma_{c}$.  To do this we employ the built-in function *comm* which calculates the commutator of two multivectors."
   ]
  },
  {
   "cell_type": "code",
   "execution_count": 52,
   "metadata": {},
   "outputs": [
    {
     "data": {
      "text/plain": [
       "2.0^e12"
      ]
     },
     "execution_count": 52,
     "metadata": {},
     "output_type": "execute_result"
    }
   ],
   "source": [
    "comm(X, Y)"
   ]
  },
  {
   "cell_type": "markdown",
   "metadata": {},
   "source": [
    "This result is equivalent to the value $2i\\sigma_{3}$ where the imaginary unit *i* has been replaced by the $\\mathbb{G}_{3}$ pseudoscalar $\\mathbf{e}123$."
   ]
  },
  {
   "cell_type": "code",
   "execution_count": 53,
   "metadata": {},
   "outputs": [
    {
     "data": {
      "text/plain": [
       "2.0^e12"
      ]
     },
     "execution_count": 53,
     "metadata": {},
     "output_type": "execute_result"
    }
   ],
   "source": [
    "2*i*Z"
   ]
  },
  {
   "cell_type": "markdown",
   "metadata": {},
   "source": [
    "The remaining combinations can be similarly calculated."
   ]
  },
  {
   "cell_type": "markdown",
   "metadata": {},
   "source": [
    "## Quantum operators"
   ]
  },
  {
   "cell_type": "markdown",
   "metadata": {},
   "source": [
    "Building upon the previous results we next define some other well-known quantum states namely the right, left, in and out spin states. "
   ]
  },
  {
   "cell_type": "code",
   "execution_count": 54,
   "metadata": {},
   "outputs": [],
   "source": [
    "r_ket = (u_ket+d_ket)/sqrt(2)\n",
    "l_ket = (u_ket-d_ket)/sqrt(2)\n",
    "\n",
    "i_ket = (u_ket+i*d_ket)/sqrt(2)\n",
    "o_ket = (u_ket-i*d_ket)/sqrt(2)"
   ]
  },
  {
   "cell_type": "markdown",
   "metadata": {},
   "source": [
    "We can now calculate, for an example, the effect that a $\\sigma_{3}$ matrix has on the spin-right state."
   ]
  },
  {
   "cell_type": "code",
   "execution_count": 55,
   "metadata": {},
   "outputs": [
    {
     "data": {
      "text/plain": [
       "0.35355339 - 0.35355339^e1 + 0.35355339^e3 - 0.35355339^e13"
      ]
     },
     "execution_count": 55,
     "metadata": {},
     "output_type": "execute_result"
    }
   ],
   "source": [
    "Z*r_ket"
   ]
  },
  {
   "cell_type": "markdown",
   "metadata": {},
   "source": [
    "If this result seems strange to you then consider the multivector form of the spin-left state."
   ]
  },
  {
   "cell_type": "code",
   "execution_count": 56,
   "metadata": {},
   "outputs": [
    {
     "data": {
      "text/plain": [
       "0.35355339 - 0.35355339^e1 + 0.35355339^e3 - 0.35355339^e13"
      ]
     },
     "execution_count": 56,
     "metadata": {},
     "output_type": "execute_result"
    }
   ],
   "source": [
    "l_ket"
   ]
  },
  {
   "cell_type": "markdown",
   "metadata": {},
   "source": [
    "You can see that, when the spin-right state is left-multiplied by the $\\sigma_{3}$ matrix, the resulting state is spin-left.  It may be informative if we apply the *ufact* function to our result."
   ]
  },
  {
   "cell_type": "code",
   "execution_count": 57,
   "metadata": {
    "scrolled": true
   },
   "outputs": [
    {
     "data": {
      "text/plain": [
       "0.70710678 - 0.70710678^e13"
      ]
     },
     "execution_count": 57,
     "metadata": {},
     "output_type": "execute_result"
    }
   ],
   "source": [
    "(Z*r_ket).ufact()"
   ]
  },
  {
   "cell_type": "markdown",
   "metadata": {},
   "source": [
    "Many readers will recognize this multivector as the rotor $e^{-e13*\\pi/4}$ or alternately as a unit quaternion.  To emphasize this interpretation we apply the *dequat* function which decomposes an even multivector into its modulus and its argument."
   ]
  },
  {
   "cell_type": "code",
   "execution_count": 58,
   "metadata": {},
   "outputs": [
    {
     "data": {
      "text/plain": [
       "(1.0, 0.7853981633974483, -1.0^e13)"
      ]
     },
     "execution_count": 58,
     "metadata": {},
     "output_type": "execute_result"
    }
   ],
   "source": [
    "(Z*r_ket).ufact().dequat()"
   ]
  },
  {
   "cell_type": "markdown",
   "metadata": {},
   "source": [
    "The output is a tuple which contains the modulus, the argument and the unit bivector that define the transformation.  "
   ]
  },
  {
   "cell_type": "markdown",
   "metadata": {},
   "source": [
    "The QuantumGA module allows us to produce this or any other rotor using exponentiation in a straightforward way. "
   ]
  },
  {
   "cell_type": "code",
   "execution_count": 59,
   "metadata": {
    "scrolled": true
   },
   "outputs": [
    {
     "data": {
      "text/plain": [
       "0.70710678 - 0.70710678^e13"
      ]
     },
     "execution_count": 59,
     "metadata": {},
     "output_type": "execute_result"
    }
   ],
   "source": [
    "e**(-e13*pi/4)"
   ]
  },
  {
   "cell_type": "markdown",
   "metadata": {},
   "source": [
    "It is notable that this use of contraction with the specular matrix, in order to convert 2x2 matrices into their multivector equivalent form, can be used as a general tool.  We can easily apply it to other well-known quantum operators.  For example the Hadamard quantum gate."
   ]
  },
  {
   "cell_type": "code",
   "execution_count": 61,
   "metadata": {},
   "outputs": [
    {
     "data": {
      "text/plain": [
       "0.70710678^e1 + 0.70710678^e3"
      ]
     },
     "execution_count": 61,
     "metadata": {},
     "output_type": "execute_result"
    }
   ],
   "source": [
    "hadamard = array([[1,1], [1,-1]])/sqrt(2)\n",
    "H = tract(hadamard, S2)\n",
    "H"
   ]
  },
  {
   "cell_type": "markdown",
   "metadata": {},
   "source": [
    "The multivector form of a Hadamard gate is nothing more than the unit vector $(\\mathbf{e}1+\\mathbf{e}3)\\ /\\sqrt{2}$.   Its known effect on the spin-up state is to produce the spin-right state, which we can verify."
   ]
  },
  {
   "cell_type": "code",
   "execution_count": 62,
   "metadata": {},
   "outputs": [
    {
     "data": {
      "text/plain": [
       "0.35355339 + 0.35355339^e1 + 0.35355339^e3 + 0.35355339^e13"
      ]
     },
     "execution_count": 62,
     "metadata": {},
     "output_type": "execute_result"
    }
   ],
   "source": [
    "H*u_ket"
   ]
  },
  {
   "cell_type": "markdown",
   "metadata": {},
   "source": [
    "But because a Hadamard gate is a unit vector it can also be applied using the sandwich product to generate a reflection."
   ]
  },
  {
   "cell_type": "code",
   "execution_count": 63,
   "metadata": {},
   "outputs": [
    {
     "data": {
      "text/plain": [
       "0.5 + 0.5^e1"
      ]
     },
     "execution_count": 63,
     "metadata": {},
     "output_type": "execute_result"
    }
   ],
   "source": [
    "H*u_ket*H"
   ]
  },
  {
   "cell_type": "markdown",
   "metadata": {},
   "source": [
    "This result shows that the vector portion of *u\\_ket* has been transformed from $\\mathbf{e}3$ into $\\mathbf{e}1$, its reflection in vector H."
   ]
  },
  {
   "cell_type": "markdown",
   "metadata": {},
   "source": [
    "This may help to demonstrate that the geometric nature of a Hadamard gate's action can be more easily appreciated once it has been translated into multivector form.  Any other single-qubit quantum gate can be easily translated into a multivector and scrutinized using this same methodology."
   ]
  },
  {
   "cell_type": "markdown",
   "metadata": {},
   "source": [
    "## Sandbox"
   ]
  },
  {
   "cell_type": "markdown",
   "metadata": {},
   "source": [
    "Readers are encouraged at this point to play around with the various operators and states that we have defined so far.  Just enter a command in the following box and press run.  Verify for yourself that these multivectors behave in the same manner as the operators and states that you may be familiar with."
   ]
  },
  {
   "cell_type": "code",
   "execution_count": null,
   "metadata": {},
   "outputs": [],
   "source": []
  },
  {
   "cell_type": "markdown",
   "metadata": {},
   "source": [
    "Python programmers can load QuantumGA.py and Definitions.py into any Python 3 environment and discover even more.     "
   ]
  }
 ],
 "metadata": {
  "kernelspec": {
   "display_name": "Python 3 (ipykernel)",
   "language": "python",
   "name": "python3"
  },
  "language_info": {
   "codemirror_mode": {
    "name": "ipython",
    "version": 3
   },
   "file_extension": ".py",
   "mimetype": "text/x-python",
   "name": "python",
   "nbconvert_exporter": "python",
   "pygments_lexer": "ipython3",
   "version": "3.9.13"
  }
 },
 "nbformat": 4,
 "nbformat_minor": 2
}
